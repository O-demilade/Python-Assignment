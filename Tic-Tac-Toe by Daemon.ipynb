{
 "cells": [
  {
   "cell_type": "code",
   "execution_count": 8,
   "metadata": {},
   "outputs": [],
   "source": [
    "def board(plays):\n",
    "    print(\"\"\"\n",
    "                 TIC-TAC-TOE\n",
    "                 (Type in the corresponding cell title to play)\n",
    "                 ___ ___ ___ \n",
    "                | \"\"\"+plays[\"a1\"],plays[\"a2\"],plays[\"a3\"]+\"\"\"\n",
    "                |___|___|___|\n",
    "                | \"\"\"+plays[\"b1\"],plays[\"b2\"],plays[\"b3\"]+\"\"\"\n",
    "                |___|___|___|\n",
    "                | \"\"\"+plays[\"c1\"],plays[\"c2\"],plays[\"c3\"]+\"\"\"\n",
    "                |___|___|___|\n",
    "    \"\"\")\n",
    "    "
   ]
  },
  {
   "cell_type": "code",
   "execution_count": 9,
   "metadata": {},
   "outputs": [
    {
     "name": "stdout",
     "output_type": "stream",
     "text": [
      "\n",
      "                 TIC-TAC-TOE\n",
      "                 ___ ___ ___ \n",
      "                | a1| a2| a3|\n",
      "                |___|___|___|\n",
      "                | b1| b2| b3|\n",
      "                |___|___|___|\n",
      "                | c1| c2| c3|\n",
      "                |___|___|___|\n",
      "    \n"
     ]
    }
   ],
   "source": [
    "plays = {\"a1\":\"a1|\",\"a2\":\"a2|\",\"a3\":\"a3|\",\"b1\":\"b1|\",\"b2\":\"b2|\",\"b3\":\"b3|\",\"c1\":\"c1|\",\"c2\":\"c2|\",\"c3\":\"c3|\"}\n",
    "board(plays)"
   ]
  },
  {
   "cell_type": "code",
   "execution_count": 10,
   "metadata": {},
   "outputs": [],
   "source": [
    "def check(plays):\n",
    "    return (plays[\"a1\"]==plays[\"a2\"]==plays[\"a3\"]) or (plays[\"b1\"]==plays[\"b2\"]==plays[\"b3\"]) or (plays[\"c1\"]==plays[\"c2\"]==plays[\"c3\"]) or (plays[\"a1\"]==plays[\"b1\"]==plays[\"c1\"]) or (plays[\"a2\"]==plays[\"b2\"]==plays[\"c2\"]) or (plays[\"a3\"]==plays[\"b3\"]==plays[\"c3\"]) or (plays[\"c1\"]==plays[\"b2\"]==plays[\"a3\"]) or (plays[\"a1\"]==plays[\"b2\"]==plays[\"c3\"])\n"
   ]
  },
  {
   "cell_type": "code",
   "execution_count": 12,
   "metadata": {},
   "outputs": [
    {
     "name": "stdout",
     "output_type": "stream",
     "text": [
      "\n",
      "                 TIC-TAC-TOE\n",
      "                 ___ ___ ___ \n",
      "                | a1| a2| a3|\n",
      "                |___|___|___|\n",
      "                | b1| b2| b3|\n",
      "                |___|___|___|\n",
      "                | c1| c2| c3|\n",
      "                |___|___|___|\n",
      "    \n",
      "Player 1's turn: a1\n",
      "\n",
      "                 TIC-TAC-TOE\n",
      "                 ___ ___ ___ \n",
      "                | X | a2| a3|\n",
      "                |___|___|___|\n",
      "                | b1| b2| b3|\n",
      "                |___|___|___|\n",
      "                | c1| c2| c3|\n",
      "                |___|___|___|\n",
      "    \n",
      "Player 2's turn: b1\n",
      "\n",
      "                 TIC-TAC-TOE\n",
      "                 ___ ___ ___ \n",
      "                | X | a2| a3|\n",
      "                |___|___|___|\n",
      "                | O | b2| b3|\n",
      "                |___|___|___|\n",
      "                | c1| c2| c3|\n",
      "                |___|___|___|\n",
      "    \n",
      "Player 1's turn: a2\n",
      "\n",
      "                 TIC-TAC-TOE\n",
      "                 ___ ___ ___ \n",
      "                | X | X | a3|\n",
      "                |___|___|___|\n",
      "                | O | b2| b3|\n",
      "                |___|___|___|\n",
      "                | c1| c2| c3|\n",
      "                |___|___|___|\n",
      "    \n",
      "Player 2's turn: b2\n",
      "\n",
      "                 TIC-TAC-TOE\n",
      "                 ___ ___ ___ \n",
      "                | X | X | a3|\n",
      "                |___|___|___|\n",
      "                | O | O | b3|\n",
      "                |___|___|___|\n",
      "                | c1| c2| c3|\n",
      "                |___|___|___|\n",
      "    \n",
      "Player 1's turn: a3\n",
      "\n",
      "                 TIC-TAC-TOE\n",
      "                 ___ ___ ___ \n",
      "                | X | X | X |\n",
      "                |___|___|___|\n",
      "                | O | O | b3|\n",
      "                |___|___|___|\n",
      "                | c1| c2| c3|\n",
      "                |___|___|___|\n",
      "    \n",
      "Game Over: Player 1 wins\n"
     ]
    }
   ],
   "source": [
    "plays = {\"a1\":\"a1|\",\"a2\":\"a2|\",\"a3\":\"a3|\",\"b1\":\"b1|\",\"b2\":\"b2|\",\"b3\":\"b3|\",\"c1\":\"c1|\",\"c2\":\"c2|\",\"c3\":\"c3|\"}\n",
    "board(plays)\n",
    "p1 =\"X |\"\n",
    "p2 =\"O |\"\n",
    "gameon = True\n",
    "while gameon:\n",
    "    x = input(\"Player 1's turn: \")\n",
    "    while (plays[f\"{x}\"] == p1) or (plays[f\"{x}\"] == p2):\n",
    "        print(\"invalid move\")\n",
    "        x = input(\"Player 1's turn: \")\n",
    "    else:\n",
    "        pass\n",
    "\n",
    "    plays[f\"{x}\"] = p1\n",
    "    board(plays)\n",
    "    check(plays)\n",
    "    if check(plays) == False:\n",
    "        gameon = True\n",
    "    else:\n",
    "        print(\"Game Over: Player 1 wins\")\n",
    "        gameon = False\n",
    "        break\n",
    "            \n",
    "    y = input(\"Player 2's turn: \")\n",
    "    while (plays[f\"{y}\"] == p1) or (plays[f\"{y}\"] == p2):\n",
    "        print(\"invalid move\")\n",
    "        y = input(\"Player 2's turn: \")\n",
    "    else:\n",
    "        pass\n",
    "    \n",
    "    plays[f\"{y}\"] = p2\n",
    "    board(plays)\n",
    "    check(plays)\n",
    "    if check(plays) == False:\n",
    "        gameon = True\n",
    "    else:\n",
    "        print(\"Game Over: Player 2 wins\")\n",
    "        gameon = False\n",
    "        break\n",
    "    "
   ]
  }
 ],
 "metadata": {
  "kernelspec": {
   "display_name": "Python 3",
   "language": "python",
   "name": "python3"
  },
  "language_info": {
   "codemirror_mode": {
    "name": "ipython",
    "version": 3
   },
   "file_extension": ".py",
   "mimetype": "text/x-python",
   "name": "python",
   "nbconvert_exporter": "python",
   "pygments_lexer": "ipython3",
   "version": "3.6.4"
  }
 },
 "nbformat": 4,
 "nbformat_minor": 2
}
